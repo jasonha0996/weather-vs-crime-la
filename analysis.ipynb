{
 "cells": [
  {
   "cell_type": "markdown",
   "id": "bea54fba-d30f-4f63-9292-300254b8e689",
   "metadata": {},
   "source": [
    "# Weather vs. Crime in Los Angeles (2023)\n",
    "\n",
    "This notebook analyzes whether temperature affects crime rates in Los Angeles using LAPD crime data and weather data for 2023."
   ]
  },
  {
   "cell_type": "markdown",
   "id": "de03be3c-c063-4119-be80-99fd3ef42adc",
   "metadata": {},
   "source": [
    "## Step 1: Load the Data\n",
    "We begin by loading the 2023 LAPD crime data and corresponding weather data for Los Angeles."
   ]
  },
  {
   "cell_type": "code",
   "execution_count": 3,
   "id": "3f355516-6475-4dc8-adfd-4821f1e06ccf",
   "metadata": {},
   "outputs": [
    {
     "data": {
      "text/plain": [
       "(       DR_NO      Date Rptd       DATE OCC  TIME OCC  Crm Cd  \\\n",
       " 0  230104335  1/5/2023 0:00  1/1/2023 0:00      2030     510   \n",
       " 1  231804197  1/3/2023 0:00  1/1/2023 0:00       100     354   \n",
       " 2  231204066  1/1/2023 0:00  1/1/2023 0:00      2245     210   \n",
       " 3  231204069  1/2/2023 0:00  1/1/2023 0:00       225     236   \n",
       " 4  231204028  1/1/2023 0:00  1/1/2023 0:00      1235     230   \n",
       " \n",
       "                                       Crm Cd Desc  \\\n",
       " 0                                VEHICLE - STOLEN   \n",
       " 1                               THEFT OF IDENTITY   \n",
       " 2                                         ROBBERY   \n",
       " 3           INTIMATE PARTNER - AGGRAVATED ASSAULT   \n",
       " 4  ASSAULT WITH DEADLY WEAPON, AGGRAVATED ASSAULT   \n",
       " \n",
       "                          Mocodes  \n",
       " 0                            NaN  \n",
       " 1                      0100 1822  \n",
       " 2  0202 0216 2018 1822 0315 0344  \n",
       " 3  2000 1823 0913 1310 1309 1203  \n",
       " 4  0430 1822 0342 1100 1309 0906  ,\n",
       "        time  temperature_2m_max (°F)\n",
       " 0  1/1/2023                     59.8\n",
       " 1  1/2/2023                     56.1\n",
       " 2  1/3/2023                     56.9\n",
       " 3  1/4/2023                     60.2\n",
       " 4  1/5/2023                     62.1)"
      ]
     },
     "execution_count": 3,
     "metadata": {},
     "output_type": "execute_result"
    }
   ],
   "source": [
    "import pandas as pd\n",
    "\n",
    "# Load the datasets\n",
    "crime_df = pd.read_csv('crime_data_2023.csv')\n",
    "weather_df = pd.read_csv('weather_data_2023.csv')\n",
    "\n",
    "# Preview the data\n",
    "crime_df.head(), weather_df.head()\n"
   ]
  },
  {
   "cell_type": "markdown",
   "id": "f6c2df5a-d312-48e6-98a2-5f1c5b396315",
   "metadata": {},
   "source": [
    "## Step 2: Clean and Merge Data\n",
    "We clean the date fields and merge the datasets on the date column to align daily crime counts with corresponding temperature values."
   ]
  },
  {
   "cell_type": "code",
   "execution_count": 6,
   "id": "a5497385-c386-412b-9823-bf65b9f8ef3a",
   "metadata": {},
   "outputs": [
    {
     "data": {
      "text/html": [
       "<div>\n",
       "<style scoped>\n",
       "    .dataframe tbody tr th:only-of-type {\n",
       "        vertical-align: middle;\n",
       "    }\n",
       "\n",
       "    .dataframe tbody tr th {\n",
       "        vertical-align: top;\n",
       "    }\n",
       "\n",
       "    .dataframe thead th {\n",
       "        text-align: right;\n",
       "    }\n",
       "</style>\n",
       "<table border=\"1\" class=\"dataframe\">\n",
       "  <thead>\n",
       "    <tr style=\"text-align: right;\">\n",
       "      <th></th>\n",
       "      <th>crime_date</th>\n",
       "      <th>crime_count</th>\n",
       "      <th>temperature</th>\n",
       "    </tr>\n",
       "  </thead>\n",
       "  <tbody>\n",
       "    <tr>\n",
       "      <th>0</th>\n",
       "      <td>2023-01-01</td>\n",
       "      <td>1160</td>\n",
       "      <td>59.8</td>\n",
       "    </tr>\n",
       "    <tr>\n",
       "      <th>1</th>\n",
       "      <td>2023-01-02</td>\n",
       "      <td>836</td>\n",
       "      <td>56.1</td>\n",
       "    </tr>\n",
       "    <tr>\n",
       "      <th>2</th>\n",
       "      <td>2023-01-03</td>\n",
       "      <td>836</td>\n",
       "      <td>56.9</td>\n",
       "    </tr>\n",
       "    <tr>\n",
       "      <th>3</th>\n",
       "      <td>2023-01-04</td>\n",
       "      <td>673</td>\n",
       "      <td>60.2</td>\n",
       "    </tr>\n",
       "    <tr>\n",
       "      <th>4</th>\n",
       "      <td>2023-01-05</td>\n",
       "      <td>560</td>\n",
       "      <td>62.1</td>\n",
       "    </tr>\n",
       "  </tbody>\n",
       "</table>\n",
       "</div>"
      ],
      "text/plain": [
       "   crime_date  crime_count  temperature\n",
       "0  2023-01-01         1160         59.8\n",
       "1  2023-01-02          836         56.1\n",
       "2  2023-01-03          836         56.9\n",
       "3  2023-01-04          673         60.2\n",
       "4  2023-01-05          560         62.1"
      ]
     },
     "execution_count": 6,
     "metadata": {},
     "output_type": "execute_result"
    }
   ],
   "source": [
    "# Rename columns\n",
    "weather_df.rename(columns={\n",
    "    'time': 'date',\n",
    "    'temperature_2m_max (°F)': 'temperature'\n",
    "}, inplace=True)\n",
    "\n",
    "# Convert to datetime.date\n",
    "weather_df['date'] = pd.to_datetime(weather_df['date']).dt.date\n",
    "\n",
    "# Convert date fields\n",
    "crime_df['DATE OCC'] = pd.to_datetime(crime_df['DATE OCC'])\n",
    "crime_df['crime_date'] = crime_df['DATE OCC'].dt.date\n",
    "\n",
    "# Aggregate daily crime counts\n",
    "daily_crime = crime_df.groupby('crime_date').size().reset_index(name='crime_count')\n",
    "\n",
    "# Clean weather data\n",
    "weather_df['date'] = pd.to_datetime(weather_df['date']).dt.date\n",
    "\n",
    "# Merge both datasets\n",
    "merged_df = pd.merge(daily_crime, weather_df, left_on='crime_date', right_on='date')\n",
    "merged_df.drop(columns=['date'], inplace=True)\n",
    "\n",
    "merged_df.head()\n"
   ]
  },
  {
   "cell_type": "markdown",
   "id": "a8d8bbb7-d6af-4a76-be46-2155cfc36f77",
   "metadata": {},
   "source": [
    "## Step 3: Visualize the Relationship\n",
    "We create a scatterplot to explore the relationship between daily temperature and crime counts."
   ]
  },
  {
   "cell_type": "code",
   "execution_count": 7,
   "id": "ba335b8b-30f7-4fce-8bc3-ae2eb55079ca",
   "metadata": {},
   "outputs": [
    {
     "data": {
      "image/png": "[encoded data removed]",
      "text/plain": [
       "<Figure size 640x480 with 1 Axes>"
      ]
     },
     "metadata": {},
     "output_type": "display_data"
    }
   ],
   "source": [
    "import matplotlib.pyplot as plt\n",
    "import seaborn as sns\n",
    "\n",
    "# Create scatterplot\n",
    "sns.scatterplot(x='temperature', y='crime_count', data=merged_df)\n",
    "plt.title('Temperature vs. Daily Crime Count in LA (2023)')\n",
    "plt.xlabel('Temperature (°F)')\n",
    "plt.ylabel('Crime Count')\n",
    "plt.tight_layout()\n",
    "plt.show()"
   ]
  },
  {
   "cell_type": "markdown",
   "id": "b50f55d1-8e81-482f-8628-6635e41e288c",
   "metadata": {},
   "source": [
    "## Step 4: Correlation and Regression Analysis\n",
    "We calculate the correlation coefficient and run a linear regression to quantify the relationship."
   ]
  },
  {
   "cell_type": "code",
   "execution_count": 8,
   "id": "b9cf8aa2-d037-4213-8372-bec30f3c45dc",
   "metadata": {},
   "outputs": [
    {
     "name": "stdout",
     "output_type": "stream",
     "text": [
      "Correlation between temperature and crime count: 0.089\n",
      "                            OLS Regression Results                            \n",
      "==============================================================================\n",
      "Dep. Variable:            crime_count   R-squared:                       0.008\n",
      "Model:                            OLS   Adj. R-squared:                  0.005\n",
      "Method:                 Least Squares   F-statistic:                     2.869\n",
      "Date:                Thu, 17 Apr 2025   Prob (F-statistic):             0.0911\n",
      "Time:                        10:37:33   Log-Likelihood:                -2081.8\n",
      "No. Observations:                 365   AIC:                             4168.\n",
      "Df Residuals:                     363   BIC:                             4175.\n",
      "Df Model:                           1                                         \n",
      "Covariance Type:            nonrobust                                         \n",
      "===============================================================================\n",
      "                  coef    std err          t      P>|t|      [0.025      0.975]\n",
      "-------------------------------------------------------------------------------\n",
      "const         589.6350     27.972     21.080      0.000     534.628     644.642\n",
      "temperature     0.6315      0.373      1.694      0.091      -0.102       1.365\n",
      "==============================================================================\n",
      "Omnibus:                      283.685   Durbin-Watson:                   1.079\n",
      "Prob(Omnibus):                  0.000   Jarque-Bera (JB):             4582.943\n",
      "Skew:                           3.182   Prob(JB):                         0.00\n",
      "Kurtosis:                      19.150   Cond. No.                         551.\n",
      "==============================================================================\n",
      "\n",
      "Notes:\n",
      "[1] Standard Errors assume that the covariance matrix of the errors is correctly specified.\n"
     ]
    }
   ],
   "source": [
    "import statsmodels.api as sm\n",
    "\n",
    "# Correlation\n",
    "correlation = merged_df['temperature'].corr(merged_df['crime_count'])\n",
    "print(f'Correlation between temperature and crime count: {correlation:.3f}')\n",
    "\n",
    "# Linear Regression\n",
    "X = sm.add_constant(merged_df['temperature'])\n",
    "y = merged_df['crime_count']\n",
    "model = sm.OLS(y, X).fit()\n",
    "\n",
    "print(model.summary())\n"
   ]
  },
  {
   "cell_type": "code",
   "execution_count": null,
   "id": "3243d446-8711-43f3-8f70-90c3392663be",
   "metadata": {},
   "outputs": [],
   "source": []
  }
 ],
 "metadata": {
  "kernelspec": {
   "display_name": "Python 3",
   "language": "python",
   "name": "python3"
  },
  "language_info": {
   "codemirror_mode": {
    "name": "ipython",
    "version": 3
   },
   "file_extension": ".py",
   "mimetype": "text/x-python",
   "name": "python",
   "nbconvert_exporter": "python",
   "pygments_lexer": "ipython3",
   "version": "3.10.11"
  }
 },
 "nbformat": 4,
 "nbformat_minor": 5
}
